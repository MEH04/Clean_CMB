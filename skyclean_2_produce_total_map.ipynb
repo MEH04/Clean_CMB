{
 "cells": [
  {
   "cell_type": "markdown",
   "metadata": {},
   "source": [
    "# 2. Create the total map for all frequencies by adding CMB realization, Synchrotron realization, and Noise realization together"
   ]
  },
  {
   "cell_type": "code",
   "execution_count": 2,
   "metadata": {},
   "outputs": [
    {
     "name": "stderr",
     "output_type": "stream",
     "text": [
      "/home/matthew/ENTER/envs/skyclean‐fix/lib/python3.13/site-packages/jaxlib/plugin_support.py:71: RuntimeWarning: JAX plugin jax_cuda12_plugin version 0.6.2 is installed, but it is not compatible with the installed jaxlib version 0.5.3, so it will not be used.\n",
      "  warnings.warn(\n"
     ]
    }
   ],
   "source": [
    "# !pip install skyclean --upgrade\n",
    "import os\n",
    "import healpy as hp\n",
    "import skyclean as sc\n",
    "# from skyclean import hp_alm_2_mw_alm, arcmin_to_radians, reduce_hp_map_resolution"
   ]
  },
  {
   "cell_type": "code",
   "execution_count": 3,
   "metadata": {},
   "outputs": [],
   "source": [
    "# Skyclean functions to create total map\n",
    "\n",
    "import healpy as hp\n",
    "import numpy as np\n",
    "import matplotlib.pyplot as plt\n",
    "# import os\n",
    "from astropy.io import fits #For beam deconvolution\n",
    "\n",
    "def reduce_hp_map_resolution(hp_map, lmax, nside):\n",
    "    \"\"\"\n",
    "    Processes a Healpix map by converting it to spherical harmonics and back,\n",
    "    and reducing the resolution.\n",
    "    \n",
    "    Parameters:\n",
    "        map_data (numpy.ndarray): Input map data.\n",
    "        lmax (int): Maximum multipole moment for spherical harmonics.\n",
    "        nside (int): Desired nside resolution for the output map.\n",
    "        \n",
    "    Returns:\n",
    "        numpy.ndarray: Processed map data.\n",
    "    \"\"\"\n",
    "    hp_alm = hp.map2alm(hp_map, lmax=lmax)\n",
    "    processed_map = hp.alm2map(hp_alm, nside=nside)\n",
    "    return processed_map, hp_alm\n",
    "\n",
    "\n",
    "\n",
    "# slightly adapted from standard skyclean beam_deconvolution function to allow convolution only\n",
    "def beam_convolution(hp_map, frequency, lmax, standard_fwhm_rad, \n",
    "                     beam_path_template = \"HFI_beams/\"+ f\"Bl_T_R3.01_fullsky_{{frequency}}x{{frequency}}.fits\", \n",
    "                     LFI_beam_fwhm = {\"030\": 32.33, \"044\": 27.01, \"070\": 13.25}, deconv = True):\n",
    "    \"\"\"\n",
    "    Performs beam deconvolution on the given CMB map data and returns the deconvolved map.\n",
    "\n",
    "    Parameters:\n",
    "        cmb_map (fits): CMB map data.\n",
    "        frequency (str): Frequency identifier (e.g., \"030\", \"044\").\n",
    "        lmax (int): Maximum multipole moment.\n",
    "        standard_fwhm_rad (float): Standard beam full-width half-maximum in radians.\n",
    "        beam_path (str): Path to the beam data file specific to the frequency.\n",
    "        LFI_beam_fwhm (dict): Dictionary of beam full-width half-maximum (FWHM) in arcminutes for LFI frequencies.\n",
    "    Returns:\n",
    "      deconvolved_map (fits): The deconvolved CMB map.\n",
    "    \"\"\"\n",
    "\n",
    "    nside = hp.get_nside(hp_map)\n",
    "    alm = hp.map2alm(hp_map, lmax=lmax)\n",
    "    # Standard beam for the desired FWHM\n",
    "    Standard_bl = hp.sphtfunc.gauss_beam(standard_fwhm_rad, lmax=lmax-1, pol=False)\n",
    "    # Pixel window function\n",
    "    pixwin = hp.sphtfunc.pixwin(nside, lmax=lmax, pol=False)\n",
    "    beam_path = beam_path_template.format(frequency = frequency)\n",
    "    # if CMB, deconvolve\n",
    "    if deconv: \n",
    "        # LFI beam deconvolution\n",
    "        if frequency in {\"030\", \"044\", \"070\"}:\n",
    "            # Deconvolution for lower frequencies\n",
    "            fwhm_rad = np.radians(LFI_beam_fwhm[frequency] / 60)\n",
    "            bl = hp.sphtfunc.gauss_beam(fwhm_rad, lmax=lmax-1, pol=False)\n",
    "            alm_deconv = hp.almxfl(alm, 1/bl)\n",
    "        # HFI beam deconvolution\n",
    "        else:\n",
    "            # Deconvolution using FITS file for higher frequencies\n",
    "            hfi = fits.open(beam_path)\n",
    "            beam = hfi[1].data[\"TEMPERATURE\"]\n",
    "            alm_deconv = hp.almxfl(alm, 1/beam) # divide out the beam\n",
    "    else:\n",
    "        alm_deconv = alm\n",
    "    # Divide out pixel window function\n",
    "    alm_deconv = hp.almxfl(alm_deconv, 1/pixwin)\n",
    "    # Apply standard beam\n",
    "    alm_reconv = hp.almxfl(alm_deconv, Standard_bl)\n",
    "    # Convert back to map\n",
    "    hp_map_reconv = hp.alm2map(alm_reconv, nside=nside)\n",
    "    \n",
    "    return hp_map_reconv"
   ]
  },
  {
   "cell_type": "code",
   "execution_count": 4,
   "metadata": {},
   "outputs": [],
   "source": [
    "# This function is not included in the Skyclean package because the storage directory and beam deconvolution process\n",
    "#  are dependent on the user.\n",
    "def create_and_save_total_map(frequency, realization, desired_lmax, directory=\"CMB_realizations\"):\n",
    "    \"\"\"\n",
    "    Processes the CMB, Synchrotron, and Noise maps for each frequency and realization, then combines them.\n",
    "\n",
    "    Beam deconvolution is applied to the CMB map.\n",
    "    The CMB, Synchrotron, and Noise maps are then reduced to the desired lmax.\n",
    "    The reduced maps are then combined to create the total map.\n",
    "\n",
    "    Parameters:\n",
    "        frequency (str): frequency identifiers.\n",
    "        realization (int): realization identifiers.\n",
    "        desired_lmax (int): Maximum multipole moment for spherical harmonics.\n",
    "        directory (str): Directory containing the input map files.\n",
    "    \"\"\"\n",
    "    # Ensure the directory exists\n",
    "    if not os.path.exists(\"data/CMB_total\"):\n",
    "        os.makedirs(\"data/CMB_total\")\n",
    "\n",
    "    print(f\"Processing maps for frequency {frequency} and realization {realization}\")\n",
    "        \n",
    "    # Define file paths\n",
    "    CMB_file_path = f\"{directory}/febecop_ffp10_lensed_scl_cmb_{frequency}_mc_{realization:04d}.fits\"\n",
    "    synchrotron_file_path = f\"{directory}/COM_SimMap_synchrotron-ffp10-skyinbands-{frequency}_2048_R3.00_full.fits\"\n",
    "    noise_file_path = f\"{directory}/ffp10_noise_{frequency}_full_map_mc_{realization:05d}.fits\"\n",
    "    \n",
    "    # Read maps\n",
    "    original_hp_CMB_map, cmb_header = hp.read_map(CMB_file_path, h = True)\n",
    "    synchrotron, synchrotron_header = hp.read_map(synchrotron_file_path, h = True)\n",
    "    noise, noise_header = hp.read_map(noise_file_path, h = True)\n",
    "\n",
    "    # Remember to check the units of the maps by print(header) (CMB_K, MJy/sr, etc.)\n",
    "    # The unit coversion: https://wiki.cosmos.esa.int/planckpla2015/index.php/UC_CC_Tables \n",
    "    #print(cmb_header)\n",
    "    #print(synchrotron_header)\n",
    "    #print(noise_header)\n",
    "    \n",
    "    if frequency == \"545\":\n",
    "        unit_conversion = 58.0356\n",
    "        original_hp_CMB_map = original_hp_CMB_map / unit_conversion\n",
    "        synchrotron = synchrotron / unit_conversion\n",
    "        noise =  noise / unit_conversion\n",
    "    if frequency == \"857\":\n",
    "        unit_conversion = 2.2681\n",
    "        original_hp_CMB_map = original_hp_CMB_map / unit_conversion\n",
    "        synchrotron = synchrotron / unit_conversion\n",
    "        noise =  noise / unit_conversion\n",
    "    #print(f\"original @ {frequency}:{original_hp_CMB_map}\")\n",
    "    # Define your own beam function path\n",
    "    HFI_beam_path = \"HFI_beams/\"+ f\"Bl_T_R3.01_fullsky_{frequency}x{frequency}.fits\"\n",
    "    \n",
    "    beam_decon_cmb = beam_convolution(original_hp_CMB_map, frequency, desired_lmax, sc.arcmin_to_radians(5)) # same shape\n",
    "    beam_decon_synchrotron = beam_convolution(synchrotron, frequency, desired_lmax, sc.arcmin_to_radians(5), deconv = False) # sync already deconved\n",
    "\n",
    "    \n",
    "    #print(f\"deconved @ {frequency}:{beam_decon_cmb}\")\n",
    "    \n",
    "    # # Calculate nside based on lmax\n",
    "    nside = desired_lmax // 2\n",
    "            \n",
    "    old_cmb,_ = sc.reduce_hp_map_resolution(original_hp_CMB_map, desired_lmax, nside)\n",
    "    new_cmb,_ = sc.reduce_hp_map_resolution(beam_decon_cmb, desired_lmax, nside)\n",
    "    new_synchrotron,_  = sc.reduce_hp_map_resolution(beam_decon_synchrotron, desired_lmax, nside)\n",
    "    new_noise,_  = sc.reduce_hp_map_resolution(noise, desired_lmax, nside)\n",
    "    #total map\n",
    "    csn = new_cmb + new_synchrotron + new_noise \n",
    "    # Save processed maps\n",
    "    map_dict = {\n",
    "        \"conved_CMB\": old_cmb,\n",
    "        \"CMB\": new_cmb,\n",
    "        \"Synchrotron\": new_synchrotron,\n",
    "        \"Noise\": new_noise,\n",
    "        \"CSN\": csn\n",
    "    }\n",
    "    for map_type, _map in map_dict.items():\n",
    "        filename = f\"data/CMB_total/{map_type}_HP_Map_F{frequency}_L{desired_lmax}_R{realization:04d}.fits\"\n",
    "        hp.write_map(filename, _map, dtype=\"float64\", overwrite=True)\n"
   ]
  },
  {
   "cell_type": "code",
   "execution_count": 5,
   "metadata": {},
   "outputs": [
    {
     "name": "stdout",
     "output_type": "stream",
     "text": [
      "Processing maps for frequency 030 and realization 0\n"
     ]
    },
    {
     "ename": "ValueError",
     "evalue": "cannot reshape array of size 1589952 into shape (1552,1024)",
     "output_type": "error",
     "traceback": [
      "\u001b[31m---------------------------------------------------------------------------\u001b[39m",
      "\u001b[31mValueError\u001b[39m                                Traceback (most recent call last)",
      "\u001b[36mCell\u001b[39m\u001b[36m \u001b[39m\u001b[32mIn[5]\u001b[39m\u001b[32m, line 15\u001b[39m\n\u001b[32m     13\u001b[39m     \u001b[38;5;28mprint\u001b[39m(\u001b[33mf\u001b[39m\u001b[33m\"\u001b[39m\u001b[33mFile \u001b[39m\u001b[38;5;132;01m{\u001b[39;00mpath\u001b[38;5;132;01m}\u001b[39;00m\u001b[33m already exists. Skipping download.\u001b[39m\u001b[33m\"\u001b[39m)\n\u001b[32m     14\u001b[39m     \u001b[38;5;28;01mcontinue\u001b[39;00m\n\u001b[32m---> \u001b[39m\u001b[32m15\u001b[39m \u001b[43mcreate_and_save_total_map\u001b[49m\u001b[43m(\u001b[49m\u001b[43mfrequency\u001b[49m\u001b[43m,\u001b[49m\u001b[43m \u001b[49m\u001b[43mrealization\u001b[49m\u001b[43m,\u001b[49m\u001b[43m \u001b[49m\u001b[43mdesired_lmax\u001b[49m\u001b[43m,\u001b[49m\u001b[43m \u001b[49m\u001b[43mdirectory\u001b[49m\u001b[43m=\u001b[49m\u001b[33;43m\"\u001b[39;49m\u001b[33;43mdata/CMB_realizations\u001b[39;49m\u001b[33;43m\"\u001b[39;49m\u001b[43m)\u001b[49m\n",
      "\u001b[36mCell\u001b[39m\u001b[36m \u001b[39m\u001b[32mIn[4]\u001b[39m\u001b[32m, line 78\u001b[39m, in \u001b[36mcreate_and_save_total_map\u001b[39m\u001b[34m(frequency, realization, desired_lmax, directory)\u001b[39m\n\u001b[32m     76\u001b[39m \u001b[38;5;28;01mfor\u001b[39;00m map_type, _map \u001b[38;5;129;01min\u001b[39;00m map_dict.items():\n\u001b[32m     77\u001b[39m     filename = \u001b[33mf\u001b[39m\u001b[33m\"\u001b[39m\u001b[33mdata/CMB_total/\u001b[39m\u001b[38;5;132;01m{\u001b[39;00mmap_type\u001b[38;5;132;01m}\u001b[39;00m\u001b[33m_HP_Map_F\u001b[39m\u001b[38;5;132;01m{\u001b[39;00mfrequency\u001b[38;5;132;01m}\u001b[39;00m\u001b[33m_L\u001b[39m\u001b[38;5;132;01m{\u001b[39;00mdesired_lmax\u001b[38;5;132;01m}\u001b[39;00m\u001b[33m_R\u001b[39m\u001b[38;5;132;01m{\u001b[39;00mrealization\u001b[38;5;132;01m:\u001b[39;00m\u001b[33m04d\u001b[39m\u001b[38;5;132;01m}\u001b[39;00m\u001b[33m.fits\u001b[39m\u001b[33m\"\u001b[39m\n\u001b[32m---> \u001b[39m\u001b[32m78\u001b[39m     \u001b[43mhp\u001b[49m\u001b[43m.\u001b[49m\u001b[43mwrite_map\u001b[49m\u001b[43m(\u001b[49m\u001b[43mfilename\u001b[49m\u001b[43m,\u001b[49m\u001b[43m \u001b[49m\u001b[43m_map\u001b[49m\u001b[43m,\u001b[49m\u001b[43m \u001b[49m\u001b[43mdtype\u001b[49m\u001b[43m=\u001b[49m\u001b[33;43m\"\u001b[39;49m\u001b[33;43mfloat64\u001b[39;49m\u001b[33;43m\"\u001b[39;49m\u001b[43m,\u001b[49m\u001b[43m \u001b[49m\u001b[43moverwrite\u001b[49m\u001b[43m=\u001b[49m\u001b[38;5;28;43;01mTrue\u001b[39;49;00m\u001b[43m)\u001b[49m\n",
      "\u001b[36mFile \u001b[39m\u001b[32m~/ENTER/envs/skyclean‐fix/lib/python3.13/site-packages/healpy/fitsfunc.py:246\u001b[39m, in \u001b[36mwrite_map\u001b[39m\u001b[34m(filename, m, nest, dtype, fits_IDL, coord, partial, column_names, column_units, extra_header, overwrite)\u001b[39m\n\u001b[32m    239\u001b[39m \u001b[38;5;28;01mif\u001b[39;00m \u001b[38;5;28mlen\u001b[39m(mm) > \u001b[32m1024\u001b[39m \u001b[38;5;129;01mand\u001b[39;00m fits_IDL:\n\u001b[32m    240\u001b[39m     \u001b[38;5;66;03m# I need an ndarray, for reshape:\u001b[39;00m\n\u001b[32m    241\u001b[39m     mm2 = np.asarray(mm)\n\u001b[32m    242\u001b[39m     cols.append(\n\u001b[32m    243\u001b[39m         pf.Column(\n\u001b[32m    244\u001b[39m             name=cn,\n\u001b[32m    245\u001b[39m             \u001b[38;5;28mformat\u001b[39m=\u001b[33m\"\u001b[39m\u001b[33m1024\u001b[39m\u001b[38;5;132;01m%s\u001b[39;00m\u001b[33m\"\u001b[39m % curr_fitsformat,\n\u001b[32m--> \u001b[39m\u001b[32m246\u001b[39m             array=\u001b[43mmm2\u001b[49m\u001b[43m.\u001b[49m\u001b[43mreshape\u001b[49m\u001b[43m(\u001b[49m\u001b[43mmm2\u001b[49m\u001b[43m.\u001b[49m\u001b[43msize\u001b[49m\u001b[43m \u001b[49m\u001b[43m/\u001b[49m\u001b[43m/\u001b[49m\u001b[43m \u001b[49m\u001b[32;43m1024\u001b[39;49m\u001b[43m,\u001b[49m\u001b[43m \u001b[49m\u001b[32;43m1024\u001b[39;49m\u001b[43m)\u001b[49m,\n\u001b[32m    247\u001b[39m             unit=cu,\n\u001b[32m    248\u001b[39m         )\n\u001b[32m    249\u001b[39m     )\n\u001b[32m    250\u001b[39m \u001b[38;5;28;01melse\u001b[39;00m:\n\u001b[32m    251\u001b[39m     cols.append(\n\u001b[32m    252\u001b[39m         pf.Column(name=cn, \u001b[38;5;28mformat\u001b[39m=\u001b[33m\"\u001b[39m\u001b[38;5;132;01m%s\u001b[39;00m\u001b[33m\"\u001b[39m % curr_fitsformat, array=mm, unit=cu)\n\u001b[32m    253\u001b[39m     )\n",
      "\u001b[31mValueError\u001b[39m: cannot reshape array of size 1589952 into shape (1552,1024)"
     ]
    }
   ],
   "source": [
    "# Usage of the create_and_save_total_map function\n",
    "\n",
    "# Define frequencies and realizations\n",
    "frequencies = [\"030\", \"100\", \"353\"]\n",
    "#frequencies = [\"030\", \"044\", \"070\", \"100\", \"143\", \"217\", \"353\", \"545\", \"857\"]\n",
    "realizations = list(range(1)) \n",
    "\n",
    "desired_lmax = 512\n",
    "for frequency in frequencies:\n",
    "    for realization in realizations:\n",
    "        path = f\"CMB_total/CSN_HP_Map_F{frequency}_L{desired_lmax}_R{realization:04d}.fits\"\n",
    "        if os.path.exists(path):\n",
    "            print(f\"File {path} already exists. Skipping download.\")\n",
    "            continue\n",
    "        create_and_save_total_map(frequency, realization, desired_lmax, directory=\"data/CMB_realizations\")\n",
    "\n"
   ]
  },
  {
   "cell_type": "code",
   "execution_count": 25,
   "metadata": {},
   "outputs": [],
   "source": [
    "import pyssht\n",
    "import healpy as hp\n",
    "import matplotlib.pyplot as plt\n",
    "import numpy as np"
   ]
  },
  {
   "cell_type": "code",
   "execution_count": 48,
   "metadata": {},
   "outputs": [
    {
     "name": "stdout",
     "output_type": "stream",
     "text": [
      "(525825,) (1048576,)\n"
     ]
    },
    {
     "ename": "ValueError",
     "evalue": "Wrong alm size.",
     "output_type": "error",
     "traceback": [
      "\u001b[31m---------------------------------------------------------------------------\u001b[39m",
      "\u001b[31mValueError\u001b[39m                                Traceback (most recent call last)",
      "\u001b[36mCell\u001b[39m\u001b[36m \u001b[39m\u001b[32mIn[48]\u001b[39m\u001b[32m, line 19\u001b[39m\n\u001b[32m     14\u001b[39m alm_back = pyssht.forward(mw_samples, L=L,\n\u001b[32m     15\u001b[39m                           Spin=\u001b[32m0\u001b[39m, Method=\u001b[33m'\u001b[39m\u001b[33mMW\u001b[39m\u001b[33m'\u001b[39m,\n\u001b[32m     16\u001b[39m                           Reality=\u001b[38;5;28;01mTrue\u001b[39;00m)                \n\u001b[32m     18\u001b[39m \u001b[38;5;28mprint\u001b[39m(alm_hp.shape, alm_back.shape)\n\u001b[32m---> \u001b[39m\u001b[32m19\u001b[39m cmb_map_back = \u001b[43mhp\u001b[49m\u001b[43m.\u001b[49m\u001b[43malm2map\u001b[49m\u001b[43m(\u001b[49m\u001b[43malm_back\u001b[49m\u001b[43m,\u001b[49m\u001b[43m \u001b[49m\u001b[43mnside\u001b[49m\u001b[43m=\u001b[49m\u001b[43mnside\u001b[49m\u001b[43m,\u001b[49m\u001b[43m \u001b[49m\u001b[43mlmax\u001b[49m\u001b[43m=\u001b[49m\u001b[43mlmax\u001b[49m\u001b[43m)\u001b[49m\n\u001b[32m     20\u001b[39m hp.mollview(cmb_map_back - cmb_map, title=\u001b[33m'\u001b[39m\u001b[33mResidual (MW round-trip)\u001b[39m\u001b[33m'\u001b[39m)\n\u001b[32m     21\u001b[39m plt.show()\n",
      "\u001b[36mFile \u001b[39m\u001b[32m~/ENTER/envs/skyclean‐fix/lib/python3.13/site-packages/astropy/utils/decorators.py:620\u001b[39m, in \u001b[36mdeprecated_renamed_argument.<locals>.decorator.<locals>.wrapper\u001b[39m\u001b[34m(*args, **kwargs)\u001b[39m\n\u001b[32m    617\u001b[39m             msg += \u001b[33mf\u001b[39m\u001b[33m\"\u001b[39m\u001b[38;5;130;01m\\n\u001b[39;00m\u001b[33m        Use \u001b[39m\u001b[38;5;132;01m{\u001b[39;00malternative\u001b[38;5;132;01m}\u001b[39;00m\u001b[33m instead.\u001b[39m\u001b[33m\"\u001b[39m\n\u001b[32m    618\u001b[39m         warnings.warn(msg, warning_type, stacklevel=\u001b[32m2\u001b[39m)\n\u001b[32m--> \u001b[39m\u001b[32m620\u001b[39m \u001b[38;5;28;01mreturn\u001b[39;00m \u001b[43mfunction\u001b[49m\u001b[43m(\u001b[49m\u001b[43m*\u001b[49m\u001b[43margs\u001b[49m\u001b[43m,\u001b[49m\u001b[43m \u001b[49m\u001b[43m*\u001b[49m\u001b[43m*\u001b[49m\u001b[43mkwargs\u001b[49m\u001b[43m)\u001b[49m\n",
      "\u001b[36mFile \u001b[39m\u001b[32m~/ENTER/envs/skyclean‐fix/lib/python3.13/site-packages/healpy/sphtfunc.py:507\u001b[39m, in \u001b[36malm2map\u001b[39m\u001b[34m(alms, nside, lmax, mmax, pixwin, fwhm, sigma, pol, inplace, verbose)\u001b[39m\n\u001b[32m    505\u001b[39m     mmax = -\u001b[32m1\u001b[39m\n\u001b[32m    506\u001b[39m \u001b[38;5;28;01mif\u001b[39;00m pol:\n\u001b[32m--> \u001b[39m\u001b[32m507\u001b[39m     output = \u001b[43msphtlib\u001b[49m\u001b[43m.\u001b[49m\u001b[43m_alm2map\u001b[49m\u001b[43m(\u001b[49m\n\u001b[32m    508\u001b[39m \u001b[43m        \u001b[49m\u001b[43malms_new\u001b[49m\u001b[43m[\u001b[49m\u001b[32;43m0\u001b[39;49m\u001b[43m]\u001b[49m\u001b[43m \u001b[49m\u001b[38;5;28;43;01mif\u001b[39;49;00m\u001b[43m \u001b[49m\u001b[43mlonely\u001b[49m\u001b[43m \u001b[49m\u001b[38;5;28;43;01melse\u001b[39;49;00m\u001b[43m \u001b[49m\u001b[38;5;28;43mtuple\u001b[39;49m\u001b[43m(\u001b[49m\u001b[43malms_new\u001b[49m\u001b[43m)\u001b[49m\u001b[43m,\u001b[49m\u001b[43m \u001b[49m\u001b[43mnside\u001b[49m\u001b[43m,\u001b[49m\u001b[43m \u001b[49m\u001b[43mlmax\u001b[49m\u001b[43m=\u001b[49m\u001b[43mlmax\u001b[49m\u001b[43m,\u001b[49m\u001b[43m \u001b[49m\u001b[43mmmax\u001b[49m\u001b[43m=\u001b[49m\u001b[43mmmax\u001b[49m\n\u001b[32m    509\u001b[39m \u001b[43m    \u001b[49m\u001b[43m)\u001b[49m\n\u001b[32m    510\u001b[39m     \u001b[38;5;28;01mif\u001b[39;00m lonely:\n\u001b[32m    511\u001b[39m         output = [output]\n",
      "\u001b[31mValueError\u001b[39m: Wrong alm size."
     ]
    }
   ],
   "source": [
    "import healpy as hp, pyssht, matplotlib.pyplot as plt\n",
    "\n",
    "lmax  = 1024\n",
    "L     = lmax       \n",
    "nside = lmax // 2\n",
    "\n",
    "cmb_map   = hp.read_map(\"data/CMB_total/CMB_HP_Map_F030_L1024_R0000.fits\")\n",
    "alm_hp    = hp.map2alm(cmb_map, lmax=lmax)     \n",
    "\n",
    "mw_samples = pyssht.inverse(alm_hp, L=L,\n",
    "                            Spin=0, Method='MW',\n",
    "                            Reality=True)             \n",
    "\n",
    "alm_back = pyssht.forward(mw_samples, L=L,\n",
    "                          Spin=0, Method='MW',\n",
    "                          Reality=True)                \n",
    "           \n",
    "print(alm_hp.shape, alm_back.shape)\n",
    "cmb_map_back = hp.alm2map(alm_back, nside=nside, lmax=lmax)\n",
    "hp.mollview(cmb_map_back - cmb_map, title='Residual (MW round-trip)')\n",
    "plt.show()\n"
   ]
  },
  {
   "cell_type": "code",
   "execution_count": null,
   "metadata": {},
   "outputs": [
    {
     "name": "stdout",
     "output_type": "stream",
     "text": [
      "525312.5\n"
     ]
    }
   ],
   "source": []
  },
  {
   "cell_type": "code",
   "execution_count": null,
   "metadata": {},
   "outputs": [],
   "source": []
  }
 ],
 "metadata": {
  "kernelspec": {
   "display_name": "Python (skyclean-fix)",
   "language": "python",
   "name": "skyclean-fix"
  },
  "language_info": {
   "codemirror_mode": {
    "name": "ipython",
    "version": 3
   },
   "file_extension": ".py",
   "mimetype": "text/x-python",
   "name": "python",
   "nbconvert_exporter": "python",
   "pygments_lexer": "ipython3",
   "version": "3.13.5"
  }
 },
 "nbformat": 4,
 "nbformat_minor": 4
}
