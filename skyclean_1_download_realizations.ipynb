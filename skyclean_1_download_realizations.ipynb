{
 "cells": [
  {
   "cell_type": "markdown",
   "metadata": {},
   "source": [
    "# 1. Download simulation data from Planck archive\n",
    "\n",
    "\n",
    "## 1.1 CMB signal realizations\n",
    "Source: Planck Legacy Archive: https://pla.esac.esa.int/#maps > maps > Simulations tab\n",
    "\n",
    "From the Planck Archive website (under the Simulations tab), the Filtered Eclectic Beam Convolved Observed Patch (febecop) simulations contain CMB data for the following frequency bands:   [030, 044, 070, 100, 143, 217, 353] GHz\n",
    "\n",
    "For the frequency bands 545 GHz and 857 GHz, these simulations can be downloaded from a different URL (Provided)\n",
    "\n",
    "Official download instructions: https://wiki.cosmos.esa.int/planck-legacy-archive/index.php/Simulation_data#CMB_realizations"
   ]
  },
  {
   "cell_type": "code",
   "execution_count": 14,
   "metadata": {},
   "outputs": [],
   "source": [
    "!pip install skyclean --upgrade\n",
    "# import skyclean as sc\n",
    "# from skyclean import download_cmb_realizations"
   ]
  },
  {
   "cell_type": "code",
   "execution_count": 1,
   "metadata": {},
   "outputs": [],
   "source": [
    "import skyclean as sc\n"
   ]
  },
  {
   "cell_type": "markdown",
   "metadata": {},
   "source": [
    "### Reference: Skyclean download_cmb_realizations fucntion\n"
   ]
  },
  {
   "cell_type": "code",
   "execution_count": 2,
   "metadata": {},
   "outputs": [],
   "source": [
    "import os\n",
    "import requests\n",
    "def download_cmb_realizations(directory, frequencies, realizations, url_template, filename_template, realization_digit):\n",
    "    \"\"\"\n",
    "    Downloads Cosmic Microwave Background (CMB) realizations for specified frequencies and realizations.\n",
    "\n",
    "    This function will download files from a specified URL template, format them according to the frequency and \n",
    "    realization number, and save them in the specified directory. If the file already exists, it will skip the download.\n",
    "\n",
    "    Parameters:\n",
    "    directory (str): The directory where files will be saved.\n",
    "    frequencies (list of str): A list of frequency identifiers to download.\n",
    "    realizations (range or list of int): A range or list of realization numbers to download.\n",
    "    url_template (str): The URL template that will be formatted with the frequency and realization.\n",
    "    filename_template (str): The template for the filename that will be used when saving the files.\n",
    "    realization_digit (int): The number of digits to use for formatting the realization number (e.g., 4 digits for \"0001\").\n",
    "\n",
    "    Returns:\n",
    "    None\n",
    "\n",
    "    Example:# \n",
    "    directory = 'CMB_realizations'\n",
    "    frequencies = [\"030\", \"044\", \"070\", \"100\", \"143\", \"217\", \"353\"]  # Example frequencies\n",
    "    realizations = range(30)  # Example: 30 realizations from 0 to 29\n",
    "    url_template = \"http://pla.esac.esa.int/pla/aio/product-action?SIMULATED_MAP.FILE_ID=febecop_ffp10_lensed_scl_cmb_{frequency}_mc_{realization}.fits\"\n",
    "    filename_template = \"febecop_ffp10_lensed_scl_cmb_{frequency}_mc_{realization}.fits\"\n",
    "    realization_digit = 4 \n",
    "    download_cmb_realizations(directory, frequencies, realizations, url_template, filename_template, realization_digit)\n",
    "    \n",
    "    # Note: 545 and 857 GHz have different urls\n",
    "    frequencies = [ \"545\", \"857\"]  # Example frequencies\n",
    "    filename_template = \"symbeam_ffp10_lensed_scl_cmb_{frequency}_mc_{realization}.fits\"\n",
    "    url_template = \"http://pla.esac.esa.int/pla/aio/product-action?SIMULATED_MAP.FILE_ID=symbeam_ffp10_lensed_scl_cmb_{frequency}_mc_{realization}.fits\"\n",
    "    download_cmb_realizations(directory, frequencies, realizations, url_template, filename_template, realization_digit)\n",
    "    \n",
    "    \"\"\"\n",
    "\n",
    "    # Ensure the directory exists\n",
    "    if not os.path.exists(directory):\n",
    "        os.makedirs(directory)\n",
    "\n",
    "    # Loop through each frequency and realization\n",
    "    for realization in realizations:\n",
    "        for frequency in frequencies: \n",
    "            realization_str = str(realization).zfill(realization_digit)\n",
    "            filename = filename_template.format(frequency=frequency, realization=realization_str)\n",
    "            file_path = os.path.join(directory, filename)\n",
    "\n",
    "            # Check if the file already exists\n",
    "            if os.path.exists(file_path):\n",
    "                print(f\"File {filename} already exists. Skipping download.\")\n",
    "                continue\n",
    "\n",
    "            # Format the URL with the current frequency and realization\n",
    "            url = url_template.format(frequency=frequency, realization=realization_str)\n",
    "\n",
    "            # Send a GET request to the URL\n",
    "            response = requests.get(url)\n",
    "\n",
    "            # Check if the request was successful\n",
    "            if response.status_code == 200:\n",
    "                # Open the file in binary write mode and write the content\n",
    "                with open(file_path, 'wb') as f:\n",
    "                    f.write(response.content)\n",
    "                print(f\"Downloaded {file_path}\")\n",
    "            else:\n",
    "                print(f\"Failed to download data for frequency {frequency} and realization {realization_str}. Status code: {response.status_code}\")\n"
   ]
  },
  {
   "cell_type": "code",
   "execution_count": 6,
   "metadata": {},
   "outputs": [
    {
     "name": "stdout",
     "output_type": "stream",
     "text": [
      "Failed to download data for frequency 030 and realization 0000. Status code: 404\n",
      "Failed to download data for frequency 044 and realization 0000. Status code: 404\n",
      "Failed to download data for frequency 070 and realization 0000. Status code: 404\n",
      "Failed to download data for frequency 100 and realization 0000. Status code: 404\n",
      "Failed to download data for frequency 143 and realization 0000. Status code: 404\n",
      "Failed to download data for frequency 217 and realization 0000. Status code: 404\n",
      "Failed to download data for frequency 353 and realization 0000. Status code: 404\n",
      "Failed to download data for frequency 030 and realization 0001. Status code: 404\n",
      "Failed to download data for frequency 044 and realization 0001. Status code: 404\n",
      "Failed to download data for frequency 070 and realization 0001. Status code: 404\n"
     ]
    },
    {
     "ename": "KeyboardInterrupt",
     "evalue": "",
     "output_type": "error",
     "traceback": [
      "\u001b[31m---------------------------------------------------------------------------\u001b[39m",
      "\u001b[31mKeyboardInterrupt\u001b[39m                         Traceback (most recent call last)",
      "\u001b[36mCell\u001b[39m\u001b[36m \u001b[39m\u001b[32mIn[6]\u001b[39m\u001b[32m, line 11\u001b[39m\n\u001b[32m      9\u001b[39m store_filename_template = \u001b[33m\"\u001b[39m\u001b[33mfebecop_ffp10_lensed_scl_cmb_\u001b[39m\u001b[38;5;132;01m{frequency}\u001b[39;00m\u001b[33m_mc_\u001b[39m\u001b[38;5;132;01m{realization}\u001b[39;00m\u001b[33m.fits\u001b[39m\u001b[33m\"\u001b[39m\n\u001b[32m     10\u001b[39m realization_digit = \u001b[32m4\u001b[39m \n\u001b[32m---> \u001b[39m\u001b[32m11\u001b[39m \u001b[43msc\u001b[49m\u001b[43m.\u001b[49m\u001b[43mdownload_cmb_realizations\u001b[49m\u001b[43m(\u001b[49m\u001b[43mstore_directory\u001b[49m\u001b[43m,\u001b[49m\u001b[43m \u001b[49m\u001b[43mfrequencies\u001b[49m\u001b[43m,\u001b[49m\u001b[43m \u001b[49m\u001b[43mrealizations\u001b[49m\u001b[43m,\u001b[49m\u001b[43m \u001b[49m\u001b[43murl_template\u001b[49m\u001b[43m,\u001b[49m\u001b[43m \u001b[49m\u001b[43mstore_filename_template\u001b[49m\u001b[43m,\u001b[49m\u001b[43m \u001b[49m\u001b[43mrealization_digit\u001b[49m\u001b[43m)\u001b[49m\n\u001b[32m     13\u001b[39m special_path_frequencies = [ \u001b[33m\"\u001b[39m\u001b[33m545\u001b[39m\u001b[33m\"\u001b[39m, \u001b[33m\"\u001b[39m\u001b[33m857\u001b[39m\u001b[33m\"\u001b[39m]  \u001b[38;5;66;03m# Example frequencies\u001b[39;00m\n\u001b[32m     14\u001b[39m \u001b[38;5;66;03m# for simplied processing (the downloaded fits files are name as febecop, symbeam is the original code)\u001b[39;00m\n",
      "\u001b[36mFile \u001b[39m\u001b[32m~/ENTER/envs/skyclean‐fix/lib/python3.13/site-packages/skyclean/tools/useful_functions.py:71\u001b[39m, in \u001b[36mdownload_cmb_realizations\u001b[39m\u001b[34m(directory, frequencies, realizations, url_template, filename_template, realization_digit)\u001b[39m\n\u001b[32m     68\u001b[39m url = url_template.format(frequency=frequency, realization=realization_str)\n\u001b[32m     70\u001b[39m \u001b[38;5;66;03m# Send a GET request to the URL\u001b[39;00m\n\u001b[32m---> \u001b[39m\u001b[32m71\u001b[39m response = \u001b[43mrequests\u001b[49m\u001b[43m.\u001b[49m\u001b[43mget\u001b[49m\u001b[43m(\u001b[49m\u001b[43murl\u001b[49m\u001b[43m)\u001b[49m\n\u001b[32m     73\u001b[39m \u001b[38;5;66;03m# Check if the request was successful\u001b[39;00m\n\u001b[32m     74\u001b[39m \u001b[38;5;28;01mif\u001b[39;00m response.status_code == \u001b[32m200\u001b[39m:\n\u001b[32m     75\u001b[39m     \u001b[38;5;66;03m# Open the file in binary write mode and write the content\u001b[39;00m\n",
      "\u001b[36mFile \u001b[39m\u001b[32m~/ENTER/envs/skyclean‐fix/lib/python3.13/site-packages/requests/api.py:73\u001b[39m, in \u001b[36mget\u001b[39m\u001b[34m(url, params, **kwargs)\u001b[39m\n\u001b[32m     62\u001b[39m \u001b[38;5;28;01mdef\u001b[39;00m\u001b[38;5;250m \u001b[39m\u001b[34mget\u001b[39m(url, params=\u001b[38;5;28;01mNone\u001b[39;00m, **kwargs):\n\u001b[32m     63\u001b[39m \u001b[38;5;250m    \u001b[39m\u001b[33mr\u001b[39m\u001b[33;03m\"\"\"Sends a GET request.\u001b[39;00m\n\u001b[32m     64\u001b[39m \n\u001b[32m     65\u001b[39m \u001b[33;03m    :param url: URL for the new :class:`Request` object.\u001b[39;00m\n\u001b[32m   (...)\u001b[39m\u001b[32m     70\u001b[39m \u001b[33;03m    :rtype: requests.Response\u001b[39;00m\n\u001b[32m     71\u001b[39m \u001b[33;03m    \"\"\"\u001b[39;00m\n\u001b[32m---> \u001b[39m\u001b[32m73\u001b[39m     \u001b[38;5;28;01mreturn\u001b[39;00m \u001b[43mrequest\u001b[49m\u001b[43m(\u001b[49m\u001b[33;43m\"\u001b[39;49m\u001b[33;43mget\u001b[39;49m\u001b[33;43m\"\u001b[39;49m\u001b[43m,\u001b[49m\u001b[43m \u001b[49m\u001b[43murl\u001b[49m\u001b[43m,\u001b[49m\u001b[43m \u001b[49m\u001b[43mparams\u001b[49m\u001b[43m=\u001b[49m\u001b[43mparams\u001b[49m\u001b[43m,\u001b[49m\u001b[43m \u001b[49m\u001b[43m*\u001b[49m\u001b[43m*\u001b[49m\u001b[43mkwargs\u001b[49m\u001b[43m)\u001b[49m\n",
      "\u001b[36mFile \u001b[39m\u001b[32m~/ENTER/envs/skyclean‐fix/lib/python3.13/site-packages/requests/api.py:59\u001b[39m, in \u001b[36mrequest\u001b[39m\u001b[34m(method, url, **kwargs)\u001b[39m\n\u001b[32m     55\u001b[39m \u001b[38;5;66;03m# By using the 'with' statement we are sure the session is closed, thus we\u001b[39;00m\n\u001b[32m     56\u001b[39m \u001b[38;5;66;03m# avoid leaving sockets open which can trigger a ResourceWarning in some\u001b[39;00m\n\u001b[32m     57\u001b[39m \u001b[38;5;66;03m# cases, and look like a memory leak in others.\u001b[39;00m\n\u001b[32m     58\u001b[39m \u001b[38;5;28;01mwith\u001b[39;00m sessions.Session() \u001b[38;5;28;01mas\u001b[39;00m session:\n\u001b[32m---> \u001b[39m\u001b[32m59\u001b[39m     \u001b[38;5;28;01mreturn\u001b[39;00m \u001b[43msession\u001b[49m\u001b[43m.\u001b[49m\u001b[43mrequest\u001b[49m\u001b[43m(\u001b[49m\u001b[43mmethod\u001b[49m\u001b[43m=\u001b[49m\u001b[43mmethod\u001b[49m\u001b[43m,\u001b[49m\u001b[43m \u001b[49m\u001b[43murl\u001b[49m\u001b[43m=\u001b[49m\u001b[43murl\u001b[49m\u001b[43m,\u001b[49m\u001b[43m \u001b[49m\u001b[43m*\u001b[49m\u001b[43m*\u001b[49m\u001b[43mkwargs\u001b[49m\u001b[43m)\u001b[49m\n",
      "\u001b[36mFile \u001b[39m\u001b[32m~/ENTER/envs/skyclean‐fix/lib/python3.13/site-packages/requests/sessions.py:589\u001b[39m, in \u001b[36mSession.request\u001b[39m\u001b[34m(self, method, url, params, data, headers, cookies, files, auth, timeout, allow_redirects, proxies, hooks, stream, verify, cert, json)\u001b[39m\n\u001b[32m    584\u001b[39m send_kwargs = {\n\u001b[32m    585\u001b[39m     \u001b[33m\"\u001b[39m\u001b[33mtimeout\u001b[39m\u001b[33m\"\u001b[39m: timeout,\n\u001b[32m    586\u001b[39m     \u001b[33m\"\u001b[39m\u001b[33mallow_redirects\u001b[39m\u001b[33m\"\u001b[39m: allow_redirects,\n\u001b[32m    587\u001b[39m }\n\u001b[32m    588\u001b[39m send_kwargs.update(settings)\n\u001b[32m--> \u001b[39m\u001b[32m589\u001b[39m resp = \u001b[38;5;28;43mself\u001b[39;49m\u001b[43m.\u001b[49m\u001b[43msend\u001b[49m\u001b[43m(\u001b[49m\u001b[43mprep\u001b[49m\u001b[43m,\u001b[49m\u001b[43m \u001b[49m\u001b[43m*\u001b[49m\u001b[43m*\u001b[49m\u001b[43msend_kwargs\u001b[49m\u001b[43m)\u001b[49m\n\u001b[32m    591\u001b[39m \u001b[38;5;28;01mreturn\u001b[39;00m resp\n",
      "\u001b[36mFile \u001b[39m\u001b[32m~/ENTER/envs/skyclean‐fix/lib/python3.13/site-packages/requests/sessions.py:703\u001b[39m, in \u001b[36mSession.send\u001b[39m\u001b[34m(self, request, **kwargs)\u001b[39m\n\u001b[32m    700\u001b[39m start = preferred_clock()\n\u001b[32m    702\u001b[39m \u001b[38;5;66;03m# Send the request\u001b[39;00m\n\u001b[32m--> \u001b[39m\u001b[32m703\u001b[39m r = \u001b[43madapter\u001b[49m\u001b[43m.\u001b[49m\u001b[43msend\u001b[49m\u001b[43m(\u001b[49m\u001b[43mrequest\u001b[49m\u001b[43m,\u001b[49m\u001b[43m \u001b[49m\u001b[43m*\u001b[49m\u001b[43m*\u001b[49m\u001b[43mkwargs\u001b[49m\u001b[43m)\u001b[49m\n\u001b[32m    705\u001b[39m \u001b[38;5;66;03m# Total elapsed time of the request (approximately)\u001b[39;00m\n\u001b[32m    706\u001b[39m elapsed = preferred_clock() - start\n",
      "\u001b[36mFile \u001b[39m\u001b[32m~/ENTER/envs/skyclean‐fix/lib/python3.13/site-packages/requests/adapters.py:667\u001b[39m, in \u001b[36mHTTPAdapter.send\u001b[39m\u001b[34m(self, request, stream, timeout, verify, cert, proxies)\u001b[39m\n\u001b[32m    664\u001b[39m     timeout = TimeoutSauce(connect=timeout, read=timeout)\n\u001b[32m    666\u001b[39m \u001b[38;5;28;01mtry\u001b[39;00m:\n\u001b[32m--> \u001b[39m\u001b[32m667\u001b[39m     resp = \u001b[43mconn\u001b[49m\u001b[43m.\u001b[49m\u001b[43murlopen\u001b[49m\u001b[43m(\u001b[49m\n\u001b[32m    668\u001b[39m \u001b[43m        \u001b[49m\u001b[43mmethod\u001b[49m\u001b[43m=\u001b[49m\u001b[43mrequest\u001b[49m\u001b[43m.\u001b[49m\u001b[43mmethod\u001b[49m\u001b[43m,\u001b[49m\n\u001b[32m    669\u001b[39m \u001b[43m        \u001b[49m\u001b[43murl\u001b[49m\u001b[43m=\u001b[49m\u001b[43murl\u001b[49m\u001b[43m,\u001b[49m\n\u001b[32m    670\u001b[39m \u001b[43m        \u001b[49m\u001b[43mbody\u001b[49m\u001b[43m=\u001b[49m\u001b[43mrequest\u001b[49m\u001b[43m.\u001b[49m\u001b[43mbody\u001b[49m\u001b[43m,\u001b[49m\n\u001b[32m    671\u001b[39m \u001b[43m        \u001b[49m\u001b[43mheaders\u001b[49m\u001b[43m=\u001b[49m\u001b[43mrequest\u001b[49m\u001b[43m.\u001b[49m\u001b[43mheaders\u001b[49m\u001b[43m,\u001b[49m\n\u001b[32m    672\u001b[39m \u001b[43m        \u001b[49m\u001b[43mredirect\u001b[49m\u001b[43m=\u001b[49m\u001b[38;5;28;43;01mFalse\u001b[39;49;00m\u001b[43m,\u001b[49m\n\u001b[32m    673\u001b[39m \u001b[43m        \u001b[49m\u001b[43massert_same_host\u001b[49m\u001b[43m=\u001b[49m\u001b[38;5;28;43;01mFalse\u001b[39;49;00m\u001b[43m,\u001b[49m\n\u001b[32m    674\u001b[39m \u001b[43m        \u001b[49m\u001b[43mpreload_content\u001b[49m\u001b[43m=\u001b[49m\u001b[38;5;28;43;01mFalse\u001b[39;49;00m\u001b[43m,\u001b[49m\n\u001b[32m    675\u001b[39m \u001b[43m        \u001b[49m\u001b[43mdecode_content\u001b[49m\u001b[43m=\u001b[49m\u001b[38;5;28;43;01mFalse\u001b[39;49;00m\u001b[43m,\u001b[49m\n\u001b[32m    676\u001b[39m \u001b[43m        \u001b[49m\u001b[43mretries\u001b[49m\u001b[43m=\u001b[49m\u001b[38;5;28;43mself\u001b[39;49m\u001b[43m.\u001b[49m\u001b[43mmax_retries\u001b[49m\u001b[43m,\u001b[49m\n\u001b[32m    677\u001b[39m \u001b[43m        \u001b[49m\u001b[43mtimeout\u001b[49m\u001b[43m=\u001b[49m\u001b[43mtimeout\u001b[49m\u001b[43m,\u001b[49m\n\u001b[32m    678\u001b[39m \u001b[43m        \u001b[49m\u001b[43mchunked\u001b[49m\u001b[43m=\u001b[49m\u001b[43mchunked\u001b[49m\u001b[43m,\u001b[49m\n\u001b[32m    679\u001b[39m \u001b[43m    \u001b[49m\u001b[43m)\u001b[49m\n\u001b[32m    681\u001b[39m \u001b[38;5;28;01mexcept\u001b[39;00m (ProtocolError, \u001b[38;5;167;01mOSError\u001b[39;00m) \u001b[38;5;28;01mas\u001b[39;00m err:\n\u001b[32m    682\u001b[39m     \u001b[38;5;28;01mraise\u001b[39;00m \u001b[38;5;167;01mConnectionError\u001b[39;00m(err, request=request)\n",
      "\u001b[36mFile \u001b[39m\u001b[32m~/ENTER/envs/skyclean‐fix/lib/python3.13/site-packages/urllib3/connectionpool.py:787\u001b[39m, in \u001b[36mHTTPConnectionPool.urlopen\u001b[39m\u001b[34m(self, method, url, body, headers, retries, redirect, assert_same_host, timeout, pool_timeout, release_conn, chunked, body_pos, preload_content, decode_content, **response_kw)\u001b[39m\n\u001b[32m    784\u001b[39m response_conn = conn \u001b[38;5;28;01mif\u001b[39;00m \u001b[38;5;129;01mnot\u001b[39;00m release_conn \u001b[38;5;28;01melse\u001b[39;00m \u001b[38;5;28;01mNone\u001b[39;00m\n\u001b[32m    786\u001b[39m \u001b[38;5;66;03m# Make the request on the HTTPConnection object\u001b[39;00m\n\u001b[32m--> \u001b[39m\u001b[32m787\u001b[39m response = \u001b[38;5;28;43mself\u001b[39;49m\u001b[43m.\u001b[49m\u001b[43m_make_request\u001b[49m\u001b[43m(\u001b[49m\n\u001b[32m    788\u001b[39m \u001b[43m    \u001b[49m\u001b[43mconn\u001b[49m\u001b[43m,\u001b[49m\n\u001b[32m    789\u001b[39m \u001b[43m    \u001b[49m\u001b[43mmethod\u001b[49m\u001b[43m,\u001b[49m\n\u001b[32m    790\u001b[39m \u001b[43m    \u001b[49m\u001b[43murl\u001b[49m\u001b[43m,\u001b[49m\n\u001b[32m    791\u001b[39m \u001b[43m    \u001b[49m\u001b[43mtimeout\u001b[49m\u001b[43m=\u001b[49m\u001b[43mtimeout_obj\u001b[49m\u001b[43m,\u001b[49m\n\u001b[32m    792\u001b[39m \u001b[43m    \u001b[49m\u001b[43mbody\u001b[49m\u001b[43m=\u001b[49m\u001b[43mbody\u001b[49m\u001b[43m,\u001b[49m\n\u001b[32m    793\u001b[39m \u001b[43m    \u001b[49m\u001b[43mheaders\u001b[49m\u001b[43m=\u001b[49m\u001b[43mheaders\u001b[49m\u001b[43m,\u001b[49m\n\u001b[32m    794\u001b[39m \u001b[43m    \u001b[49m\u001b[43mchunked\u001b[49m\u001b[43m=\u001b[49m\u001b[43mchunked\u001b[49m\u001b[43m,\u001b[49m\n\u001b[32m    795\u001b[39m \u001b[43m    \u001b[49m\u001b[43mretries\u001b[49m\u001b[43m=\u001b[49m\u001b[43mretries\u001b[49m\u001b[43m,\u001b[49m\n\u001b[32m    796\u001b[39m \u001b[43m    \u001b[49m\u001b[43mresponse_conn\u001b[49m\u001b[43m=\u001b[49m\u001b[43mresponse_conn\u001b[49m\u001b[43m,\u001b[49m\n\u001b[32m    797\u001b[39m \u001b[43m    \u001b[49m\u001b[43mpreload_content\u001b[49m\u001b[43m=\u001b[49m\u001b[43mpreload_content\u001b[49m\u001b[43m,\u001b[49m\n\u001b[32m    798\u001b[39m \u001b[43m    \u001b[49m\u001b[43mdecode_content\u001b[49m\u001b[43m=\u001b[49m\u001b[43mdecode_content\u001b[49m\u001b[43m,\u001b[49m\n\u001b[32m    799\u001b[39m \u001b[43m    \u001b[49m\u001b[43m*\u001b[49m\u001b[43m*\u001b[49m\u001b[43mresponse_kw\u001b[49m\u001b[43m,\u001b[49m\n\u001b[32m    800\u001b[39m \u001b[43m\u001b[49m\u001b[43m)\u001b[49m\n\u001b[32m    802\u001b[39m \u001b[38;5;66;03m# Everything went great!\u001b[39;00m\n\u001b[32m    803\u001b[39m clean_exit = \u001b[38;5;28;01mTrue\u001b[39;00m\n",
      "\u001b[36mFile \u001b[39m\u001b[32m~/ENTER/envs/skyclean‐fix/lib/python3.13/site-packages/urllib3/connectionpool.py:534\u001b[39m, in \u001b[36mHTTPConnectionPool._make_request\u001b[39m\u001b[34m(self, conn, method, url, body, headers, retries, timeout, chunked, response_conn, preload_content, decode_content, enforce_content_length)\u001b[39m\n\u001b[32m    532\u001b[39m \u001b[38;5;66;03m# Receive the response from the server\u001b[39;00m\n\u001b[32m    533\u001b[39m \u001b[38;5;28;01mtry\u001b[39;00m:\n\u001b[32m--> \u001b[39m\u001b[32m534\u001b[39m     response = \u001b[43mconn\u001b[49m\u001b[43m.\u001b[49m\u001b[43mgetresponse\u001b[49m\u001b[43m(\u001b[49m\u001b[43m)\u001b[49m\n\u001b[32m    535\u001b[39m \u001b[38;5;28;01mexcept\u001b[39;00m (BaseSSLError, \u001b[38;5;167;01mOSError\u001b[39;00m) \u001b[38;5;28;01mas\u001b[39;00m e:\n\u001b[32m    536\u001b[39m     \u001b[38;5;28mself\u001b[39m._raise_timeout(err=e, url=url, timeout_value=read_timeout)\n",
      "\u001b[36mFile \u001b[39m\u001b[32m~/ENTER/envs/skyclean‐fix/lib/python3.13/site-packages/urllib3/connection.py:565\u001b[39m, in \u001b[36mHTTPConnection.getresponse\u001b[39m\u001b[34m(self)\u001b[39m\n\u001b[32m    562\u001b[39m _shutdown = \u001b[38;5;28mgetattr\u001b[39m(\u001b[38;5;28mself\u001b[39m.sock, \u001b[33m\"\u001b[39m\u001b[33mshutdown\u001b[39m\u001b[33m\"\u001b[39m, \u001b[38;5;28;01mNone\u001b[39;00m)\n\u001b[32m    564\u001b[39m \u001b[38;5;66;03m# Get the response from http.client.HTTPConnection\u001b[39;00m\n\u001b[32m--> \u001b[39m\u001b[32m565\u001b[39m httplib_response = \u001b[38;5;28;43msuper\u001b[39;49m\u001b[43m(\u001b[49m\u001b[43m)\u001b[49m\u001b[43m.\u001b[49m\u001b[43mgetresponse\u001b[49m\u001b[43m(\u001b[49m\u001b[43m)\u001b[49m\n\u001b[32m    567\u001b[39m \u001b[38;5;28;01mtry\u001b[39;00m:\n\u001b[32m    568\u001b[39m     assert_header_parsing(httplib_response.msg)\n",
      "\u001b[36mFile \u001b[39m\u001b[32m~/ENTER/envs/skyclean‐fix/lib/python3.13/http/client.py:1430\u001b[39m, in \u001b[36mHTTPConnection.getresponse\u001b[39m\u001b[34m(self)\u001b[39m\n\u001b[32m   1428\u001b[39m \u001b[38;5;28;01mtry\u001b[39;00m:\n\u001b[32m   1429\u001b[39m     \u001b[38;5;28;01mtry\u001b[39;00m:\n\u001b[32m-> \u001b[39m\u001b[32m1430\u001b[39m         \u001b[43mresponse\u001b[49m\u001b[43m.\u001b[49m\u001b[43mbegin\u001b[49m\u001b[43m(\u001b[49m\u001b[43m)\u001b[49m\n\u001b[32m   1431\u001b[39m     \u001b[38;5;28;01mexcept\u001b[39;00m \u001b[38;5;167;01mConnectionError\u001b[39;00m:\n\u001b[32m   1432\u001b[39m         \u001b[38;5;28mself\u001b[39m.close()\n",
      "\u001b[36mFile \u001b[39m\u001b[32m~/ENTER/envs/skyclean‐fix/lib/python3.13/http/client.py:331\u001b[39m, in \u001b[36mHTTPResponse.begin\u001b[39m\u001b[34m(self)\u001b[39m\n\u001b[32m    329\u001b[39m \u001b[38;5;66;03m# read until we get a non-100 response\u001b[39;00m\n\u001b[32m    330\u001b[39m \u001b[38;5;28;01mwhile\u001b[39;00m \u001b[38;5;28;01mTrue\u001b[39;00m:\n\u001b[32m--> \u001b[39m\u001b[32m331\u001b[39m     version, status, reason = \u001b[38;5;28;43mself\u001b[39;49m\u001b[43m.\u001b[49m\u001b[43m_read_status\u001b[49m\u001b[43m(\u001b[49m\u001b[43m)\u001b[49m\n\u001b[32m    332\u001b[39m     \u001b[38;5;28;01mif\u001b[39;00m status != CONTINUE:\n\u001b[32m    333\u001b[39m         \u001b[38;5;28;01mbreak\u001b[39;00m\n",
      "\u001b[36mFile \u001b[39m\u001b[32m~/ENTER/envs/skyclean‐fix/lib/python3.13/http/client.py:292\u001b[39m, in \u001b[36mHTTPResponse._read_status\u001b[39m\u001b[34m(self)\u001b[39m\n\u001b[32m    291\u001b[39m \u001b[38;5;28;01mdef\u001b[39;00m\u001b[38;5;250m \u001b[39m\u001b[34m_read_status\u001b[39m(\u001b[38;5;28mself\u001b[39m):\n\u001b[32m--> \u001b[39m\u001b[32m292\u001b[39m     line = \u001b[38;5;28mstr\u001b[39m(\u001b[38;5;28;43mself\u001b[39;49m\u001b[43m.\u001b[49m\u001b[43mfp\u001b[49m\u001b[43m.\u001b[49m\u001b[43mreadline\u001b[49m\u001b[43m(\u001b[49m\u001b[43m_MAXLINE\u001b[49m\u001b[43m \u001b[49m\u001b[43m+\u001b[49m\u001b[43m \u001b[49m\u001b[32;43m1\u001b[39;49m\u001b[43m)\u001b[49m, \u001b[33m\"\u001b[39m\u001b[33miso-8859-1\u001b[39m\u001b[33m\"\u001b[39m)\n\u001b[32m    293\u001b[39m     \u001b[38;5;28;01mif\u001b[39;00m \u001b[38;5;28mlen\u001b[39m(line) > _MAXLINE:\n\u001b[32m    294\u001b[39m         \u001b[38;5;28;01mraise\u001b[39;00m LineTooLong(\u001b[33m\"\u001b[39m\u001b[33mstatus line\u001b[39m\u001b[33m\"\u001b[39m)\n",
      "\u001b[36mFile \u001b[39m\u001b[32m~/ENTER/envs/skyclean‐fix/lib/python3.13/socket.py:719\u001b[39m, in \u001b[36mSocketIO.readinto\u001b[39m\u001b[34m(self, b)\u001b[39m\n\u001b[32m    717\u001b[39m     \u001b[38;5;28;01mraise\u001b[39;00m \u001b[38;5;167;01mOSError\u001b[39;00m(\u001b[33m\"\u001b[39m\u001b[33mcannot read from timed out object\u001b[39m\u001b[33m\"\u001b[39m)\n\u001b[32m    718\u001b[39m \u001b[38;5;28;01mtry\u001b[39;00m:\n\u001b[32m--> \u001b[39m\u001b[32m719\u001b[39m     \u001b[38;5;28;01mreturn\u001b[39;00m \u001b[38;5;28;43mself\u001b[39;49m\u001b[43m.\u001b[49m\u001b[43m_sock\u001b[49m\u001b[43m.\u001b[49m\u001b[43mrecv_into\u001b[49m\u001b[43m(\u001b[49m\u001b[43mb\u001b[49m\u001b[43m)\u001b[49m\n\u001b[32m    720\u001b[39m \u001b[38;5;28;01mexcept\u001b[39;00m timeout:\n\u001b[32m    721\u001b[39m     \u001b[38;5;28mself\u001b[39m._timeout_occurred = \u001b[38;5;28;01mTrue\u001b[39;00m\n",
      "\u001b[31mKeyboardInterrupt\u001b[39m: "
     ]
    }
   ],
   "source": [
    "# Example usage: download_cmb_realizations\n",
    "# Febecop FFP10 lensed CMB realizations\n",
    "\n",
    "store_directory = 'CMB_realizations'\n",
    "frequencies = [\"030\", \"044\", \"070\", \"100\", \"143\", \"217\", \"353\"]  # Example frequencies\n",
    "reallization = 5\n",
    "realizations = range(reallization)  # Example: 10 realizations from 0 to 9\n",
    "url_template = \"http://pla.esac.esa.int/pla/aio/product-action?SIMULATED_MAP.FILE_ID=febecop_ffp10_lensed_scl_cmb_{frequency}_mc_{realization}.fits\"\n",
    "store_filename_template = \"febecop_ffp10_lensed_scl_cmb_{frequency}_mc_{realization}.fits\"\n",
    "realization_digit = 4 \n",
    "sc.download_cmb_realizations(store_directory, frequencies, realizations, url_template, store_filename_template, realization_digit)\n",
    "\n",
    "special_path_frequencies = [ \"545\", \"857\"]  # Example frequencies\n",
    "# for simplied processing (the downloaded fits files are name as febecop, symbeam is the original code)\n",
    "store_filename_template = \"febecop_ffp10_lensed_scl_cmb_{frequency}_mc_{realization}.fits\"\n",
    "url_template = \"http://pla.esac.esa.int/pla/aio/product-action?SIMULATED_MAP.FILE_ID=symbeam_ffp10_lensed_scl_cmb_{frequency}_mc_{realization}.fits\"\n",
    "# sc.download_cmb_realizations(store_directory, special_path_frequencies, realizations, url_template, store_filename_template, realization_digit)\n",
    "sc.download_cmb_realizations(store_directory, special_path_frequencies, realizations, url_template, store_filename_template, realization_digit)\n"
   ]
  },
  {
   "cell_type": "markdown",
   "metadata": {},
   "source": [
    "## 1.2 Download synchrotron realizations\n",
    "\n",
    "Only 1 synchrotron realziation for each frequency. For downloading other type of foreground emissions please refer to\n",
    " https://wiki.cosmos.esa.int/planck-legacy-archive/index.php/Simulation_data#The_Planck_Sky_Model"
   ]
  },
  {
   "cell_type": "code",
   "execution_count": 19,
   "metadata": {},
   "outputs": [
    {
     "name": "stdout",
     "output_type": "stream",
     "text": [
      "File COM_SimMap_synchrotron-ffp10-skyinbands-030_2048_R3.00_full.fits already exists. Skipping download.\n",
      "File COM_SimMap_synchrotron-ffp10-skyinbands-044_2048_R3.00_full.fits already exists. Skipping download.\n",
      "File COM_SimMap_synchrotron-ffp10-skyinbands-070_2048_R3.00_full.fits already exists. Skipping download.\n",
      "File COM_SimMap_synchrotron-ffp10-skyinbands-100_2048_R3.00_full.fits already exists. Skipping download.\n",
      "File COM_SimMap_synchrotron-ffp10-skyinbands-143_2048_R3.00_full.fits already exists. Skipping download.\n",
      "File COM_SimMap_synchrotron-ffp10-skyinbands-217_2048_R3.00_full.fits already exists. Skipping download.\n",
      "File COM_SimMap_synchrotron-ffp10-skyinbands-353_2048_R3.00_full.fits already exists. Skipping download.\n",
      "File COM_SimMap_synchrotron-ffp10-skyinbands-545_2048_R3.00_full.fits already exists. Skipping download.\n",
      "File COM_SimMap_synchrotron-ffp10-skyinbands-857_2048_R3.00_full.fits already exists. Skipping download.\n"
     ]
    }
   ],
   "source": [
    "# synchrotron\n",
    "store_directory = 'CMB_realizations'\n",
    "frequencies = [\"030\", \"044\", \"070\", \"100\", \"143\", \"217\", \"353\", \"545\", \"857\"]  # Example frequencies\n",
    "realizations = range(1)  \n",
    "filename_template = \"COM_SimMap_synchrotron-ffp10-skyinbands-{frequency}_2048_R3.00_full.fits\"\n",
    "url_template = \"http://pla.esac.esa.int/pla/aio/product-action?SIMULATED_MAP.FILE_ID=COM_SimMap_synchrotron-ffp10-skyinbands-{frequency}_2048_R3.00_full.fits\"\n",
    "realization_digit = 4 \n",
    "sc.download_cmb_realizations(store_directory, frequencies, realizations, url_template, filename_template, realization_digit)\n"
   ]
  },
  {
   "cell_type": "markdown",
   "metadata": {},
   "source": [
    "## 1.3 Download noise realizations\n",
    "\n",
    "Noise realizations have 5 digits.\n",
    "\n",
    "Official instructions: https://wiki.cosmos.esa.int/planck-legacy-archive/index.php/Simulation_data#Noise_and_instrumental_effect_residual_maps"
   ]
  },
  {
   "cell_type": "code",
   "execution_count": 20,
   "metadata": {},
   "outputs": [
    {
     "name": "stdout",
     "output_type": "stream",
     "text": [
      "File ffp10_noise_030_full_map_mc_00000.fits already exists. Skipping download.\n",
      "File ffp10_noise_044_full_map_mc_00000.fits already exists. Skipping download.\n",
      "File ffp10_noise_070_full_map_mc_00000.fits already exists. Skipping download.\n",
      "File ffp10_noise_100_full_map_mc_00000.fits already exists. Skipping download.\n",
      "File ffp10_noise_143_full_map_mc_00000.fits already exists. Skipping download.\n",
      "File ffp10_noise_217_full_map_mc_00000.fits already exists. Skipping download.\n",
      "File ffp10_noise_353_full_map_mc_00000.fits already exists. Skipping download.\n",
      "File ffp10_noise_545_full_map_mc_00000.fits already exists. Skipping download.\n",
      "File ffp10_noise_857_full_map_mc_00000.fits already exists. Skipping download.\n"
     ]
    }
   ],
   "source": [
    "# Noise\n",
    "store_directory = 'CMB_realizations'\n",
    "frequencies = [\"030\", \"044\", \"070\", \"100\", \"143\", \"217\", \"353\", \"545\", \"857\"]  # Example frequencies\n",
    "realizations = range(reallization)\n",
    "realization_digit = 5\n",
    "filename_template = \"ffp10_noise_{frequency}_full_map_mc_{realization}.fits\"\n",
    "url_template = \"http://pla.esac.esa.int/pla/aio/product-action?SIMULATED_MAP.FILE_ID=ffp10_noise_{frequency}_full_map_mc_{realization}.fits\"\n",
    "\n",
    "sc.download_cmb_realizations(store_directory, frequencies, realizations, url_template, filename_template,realization_digit)"
   ]
  },
  {
   "cell_type": "markdown",
   "metadata": {},
   "source": [
    "Download Beams (already downloaded)"
   ]
  },
  {
   "cell_type": "code",
   "execution_count": null,
   "metadata": {},
   "outputs": [],
   "source": [
    "# https://irsa.ipac.caltech.edu/data/Planck/release_3/ancillary-data/HFI_Products.html\n",
    "# HFI beams\n",
    "# HFI_RIMO_BEAMS_R3.01.tar.gz"
   ]
  }
 ],
 "metadata": {
  "kernelspec": {
   "display_name": "Python (skyclean-fix)",
   "language": "python",
   "name": "skyclean-fix"
  },
  "language_info": {
   "codemirror_mode": {
    "name": "ipython",
    "version": 3
   },
   "file_extension": ".py",
   "mimetype": "text/x-python",
   "name": "python",
   "nbconvert_exporter": "python",
   "pygments_lexer": "ipython3",
   "version": "3.13.5"
  }
 },
 "nbformat": 4,
 "nbformat_minor": 4
}
